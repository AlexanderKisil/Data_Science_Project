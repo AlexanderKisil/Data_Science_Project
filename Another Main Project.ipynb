{
  "cells": [
    {
      "cell_type": "code",
      "execution_count": null,
      "metadata": {
        "colab": {
          "base_uri": "https://localhost:8080/"
        },
        "id": "XY7brT8RYyS3",
        "outputId": "1acc8d9d-c95d-4aed-b5a3-2f8799b6e09e"
      },
      "outputs": [
        {
          "name": "stdout",
          "output_type": "stream",
          "text": [
            "Requirement already satisfied: emojis in /usr/local/lib/python3.11/dist-packages (0.7.0)\n"
          ]
        }
      ],
      "source": [
        "import numpy as np\n",
        "import pandas as pd\n",
        "import matplotlib.pyplot as plt\n",
        "import json\n",
        "import re\n",
        "\n",
        "!pip install emojis\n",
        "import emojis\n"
      ]
    },
    {
      "cell_type": "markdown",
      "metadata": {
        "id": "ZNwSYZC0Y4-x"
      },
      "source": [
        "#Подгрузка данных\n",
        "Здесь мы загрузим все наши JSON-файлы, содержащие выгрузки из телеграм-чатов, и проведём первичные операции с ними."
      ]
    },
    {
      "cell_type": "code",
      "execution_count": null,
      "metadata": {
        "id": "brUbyMc7ZOUe"
      },
      "outputs": [],
      "source": [
        "f_1 = open('result_ikebana.json', 'r', encoding='utf-8')\n",
        "data_1 = json.load(f_1)\n",
        "f_1.close()\n",
        "\n",
        "data_1"
      ]
    },
    {
      "cell_type": "code",
      "execution_count": null,
      "metadata": {
        "id": "YSCTbEXhTo11"
      },
      "outputs": [],
      "source": [
        "f_2 = open('result_canada.json', 'r', encoding='utf-8')\n",
        "data_2 = json.load(f_2)\n",
        "f_2.close()\n",
        "\n",
        "data_2"
      ]
    },
    {
      "cell_type": "code",
      "execution_count": null,
      "metadata": {
        "id": "YDMSYZl8WmbX"
      },
      "outputs": [],
      "source": [
        "f_3 = open('result_dubai.json', 'r', encoding='utf-8')\n",
        "data_3 = json.load(f_3)\n",
        "f_3.close()\n",
        "\n",
        "data_3"
      ]
    },
    {
      "cell_type": "code",
      "execution_count": null,
      "metadata": {
        "id": "uVc7a0TuWu53"
      },
      "outputs": [],
      "source": [
        "f_4 = open('result_armenia.json', 'r', encoding='utf-8')\n",
        "data_4 = json.load(f_4)\n",
        "f_4.close()\n",
        "\n",
        "data_4"
      ]
    },
    {
      "cell_type": "markdown",
      "metadata": {
        "id": "laJX8sTrZQ3w"
      },
      "source": [
        "#Создание датафрейма\n",
        "Теперь стоит создать датафрейм и выбрать, какие в нём будут столбцы, но сначала мы всё проверим\n"
      ]
    },
    {
      "cell_type": "code",
      "execution_count": null,
      "metadata": {
        "colab": {
          "base_uri": "https://localhost:8080/",
          "height": 36
        },
        "id": "KL58D3T6aJ00",
        "outputId": "d2cdfd54-97df-4f8e-8bfe-a6720bc2dc19"
      },
      "outputs": [
        {
          "data": {
            "application/vnd.google.colaboratory.intrinsic+json": {
              "type": "string"
            },
            "text/plain": [
              "'Икебана | Иммиграция в США'"
            ]
          },
          "execution_count": 72,
          "metadata": {},
          "output_type": "execute_result"
        }
      ],
      "source": [
        "#Проверка наименования телеграм-чата\n",
        "data_1['name']"
      ]
    },
    {
      "cell_type": "code",
      "execution_count": null,
      "metadata": {
        "colab": {
          "base_uri": "https://localhost:8080/",
          "height": 36
        },
        "id": "T-cSMqGVW-zk",
        "outputId": "5087eebf-2a26-4730-b414-d8f3241164fa"
      },
      "outputs": [
        {
          "data": {
            "application/vnd.google.colaboratory.intrinsic+json": {
              "type": "string"
            },
            "text/plain": [
              "'Канада | иммиграция релокация'"
            ]
          },
          "execution_count": 73,
          "metadata": {},
          "output_type": "execute_result"
        }
      ],
      "source": [
        "#Проверка наименования телеграм-чата\n",
        "data_2['name']"
      ]
    },
    {
      "cell_type": "code",
      "execution_count": null,
      "metadata": {
        "colab": {
          "base_uri": "https://localhost:8080/",
          "height": 36
        },
        "id": "JUN6urKCXCgN",
        "outputId": "f35baf5d-d700-42ed-953d-a080779e0230"
      },
      "outputs": [
        {
          "data": {
            "application/vnd.google.colaboratory.intrinsic+json": {
              "type": "string"
            },
            "text/plain": [
              "'Релокация в ОАЭ 🇦🇪'"
            ]
          },
          "execution_count": 74,
          "metadata": {},
          "output_type": "execute_result"
        }
      ],
      "source": [
        "#Проверка наименования телеграм-чата\n",
        "data_3['name']"
      ]
    },
    {
      "cell_type": "code",
      "execution_count": null,
      "metadata": {
        "colab": {
          "base_uri": "https://localhost:8080/",
          "height": 36
        },
        "id": "uzksXO43XCyg",
        "outputId": "a03b4021-46ad-4d66-fe7d-7f9d368a52c9"
      },
      "outputs": [
        {
          "data": {
            "application/vnd.google.colaboratory.intrinsic+json": {
              "type": "string"
            },
            "text/plain": [
              "'Relogame Armenia'"
            ]
          },
          "execution_count": 75,
          "metadata": {},
          "output_type": "execute_result"
        }
      ],
      "source": [
        "#Проверка наименования телеграм-чата\n",
        "data_4['name']"
      ]
    },
    {
      "cell_type": "code",
      "execution_count": null,
      "metadata": {
        "colab": {
          "base_uri": "https://localhost:8080/",
          "height": 36
        },
        "id": "q_z1hqZjaKnN",
        "outputId": "a5e08fbf-1f82-48f2-adfb-6ba9d3dc65e3"
      },
      "outputs": [
        {
          "data": {
            "application/vnd.google.colaboratory.intrinsic+json": {
              "type": "string"
            },
            "text/plain": [
              "'Кто знает срок  рассмотрение апелляцию ?'"
            ]
          },
          "execution_count": 76,
          "metadata": {},
          "output_type": "execute_result"
        }
      ],
      "source": [
        "#Просмотр сообщений\n",
        "data_1['messages'][0]['text']"
      ]
    },
    {
      "cell_type": "code",
      "execution_count": null,
      "metadata": {
        "colab": {
          "base_uri": "https://localhost:8080/",
          "height": 36
        },
        "id": "2Rc6pcBEXJM6",
        "outputId": "b96a050f-d666-4e13-c6ee-b2eab6e35ff1"
      },
      "outputs": [
        {
          "data": {
            "application/vnd.google.colaboratory.intrinsic+json": {
              "type": "string"
            },
            "text/plain": [
              "'Добрый день. Подскажите, Вы как заявку через минобрнауки отправляли? Где-то через гос.услуги или еще каким-то способом?'"
            ]
          },
          "execution_count": 77,
          "metadata": {},
          "output_type": "execute_result"
        }
      ],
      "source": [
        "#Просмотр сообщений\n",
        "data_2['messages'][0]['text']"
      ]
    },
    {
      "cell_type": "code",
      "execution_count": null,
      "metadata": {
        "colab": {
          "base_uri": "https://localhost:8080/",
          "height": 36
        },
        "id": "GaRlHnyzXJm_",
        "outputId": "7ebe027e-bc9e-445b-89b8-9eb679c9137e"
      },
      "outputs": [
        {
          "data": {
            "application/vnd.google.colaboratory.intrinsic+json": {
              "type": "string"
            },
            "text/plain": [
              "'Идем в Абу даби через 30 минут можем довести'"
            ]
          },
          "execution_count": 78,
          "metadata": {},
          "output_type": "execute_result"
        }
      ],
      "source": [
        "#Просмотр сообщений\n",
        "data_3['messages'][0]['text']"
      ]
    },
    {
      "cell_type": "code",
      "execution_count": null,
      "metadata": {
        "colab": {
          "base_uri": "https://localhost:8080/"
        },
        "id": "QiJhKDoNXJv7",
        "outputId": "4d300f8c-c40d-40f2-aa70-c2cf3631fb00"
      },
      "outputs": [
        {
          "data": {
            "text/plain": [
              "['📍📍📍 В районе Арбакир, Комитаса 64 сбежала собака Мейби, среднего размера! Если увидите, просьба сообщить по номеру телефона: ',\n",
              " {'type': 'phone', 'text': '+37477813553'},\n",
              " '']"
            ]
          },
          "execution_count": 79,
          "metadata": {},
          "output_type": "execute_result"
        }
      ],
      "source": [
        "#Просмотр сообщений\n",
        "data_4['messages'][0]['text']"
      ]
    },
    {
      "cell_type": "code",
      "execution_count": null,
      "metadata": {
        "colab": {
          "base_uri": "https://localhost:8080/"
        },
        "id": "sxcqH-mXaMqU",
        "outputId": "e48485d1-893e-403d-a33f-94272a264708"
      },
      "outputs": [
        {
          "data": {
            "text/plain": [
              "23639"
            ]
          },
          "execution_count": 80,
          "metadata": {},
          "output_type": "execute_result"
        }
      ],
      "source": [
        "# Количество всех сообщений\n",
        "len(data_1['messages'])"
      ]
    },
    {
      "cell_type": "code",
      "execution_count": null,
      "metadata": {
        "colab": {
          "base_uri": "https://localhost:8080/"
        },
        "id": "sruWo-UIXZN-",
        "outputId": "c63dbec8-5545-42a0-8f0d-d75303328951"
      },
      "outputs": [
        {
          "data": {
            "text/plain": [
              "4045"
            ]
          },
          "execution_count": 81,
          "metadata": {},
          "output_type": "execute_result"
        }
      ],
      "source": [
        "# Количество всех сообщений\n",
        "len(data_2['messages'])"
      ]
    },
    {
      "cell_type": "code",
      "execution_count": null,
      "metadata": {
        "colab": {
          "base_uri": "https://localhost:8080/"
        },
        "id": "KIbtdHPqXZX0",
        "outputId": "203a33ab-ef65-48a9-ed4c-f9829775bc34"
      },
      "outputs": [
        {
          "data": {
            "text/plain": [
              "633"
            ]
          },
          "execution_count": 82,
          "metadata": {},
          "output_type": "execute_result"
        }
      ],
      "source": [
        "# Количество всех сообщений\n",
        "len(data_3['messages'])"
      ]
    },
    {
      "cell_type": "code",
      "execution_count": null,
      "metadata": {
        "colab": {
          "base_uri": "https://localhost:8080/"
        },
        "id": "dMKxf_SiXZip",
        "outputId": "e6d9b793-e604-4729-8a1d-24abe80f4ad7"
      },
      "outputs": [
        {
          "data": {
            "text/plain": [
              "1204"
            ]
          },
          "execution_count": 83,
          "metadata": {},
          "output_type": "execute_result"
        }
      ],
      "source": [
        "# Количество всех сообщений\n",
        "len(data_4['messages'])"
      ]
    },
    {
      "cell_type": "code",
      "execution_count": null,
      "metadata": {
        "id": "HBMJJkO1aQek"
      },
      "outputs": [],
      "source": [
        "# Словарь для датафрейма\n",
        "d_1 = {'Date':[], 'Username':[], 'text':[]}\n",
        "\n",
        "for message in data_1['messages']:\n",
        "    if message['type'] == 'message':\n",
        "        d_1['Date'].append(message['date'])\n",
        "        d_1['Username'].append(message['from_id'])\n",
        "        if 'text' in message:\n",
        "            d_1['text'].append(message['text'])\n",
        "        else:\n",
        "            d_1['text'].append('')\n",
        "    else:\n",
        "        print(message) # то, что не относится к сообщениям"
      ]
    },
    {
      "cell_type": "code",
      "execution_count": null,
      "metadata": {
        "id": "7X_6I-UdfC_6"
      },
      "outputs": [],
      "source": [
        "# Словарь для датафрейма\n",
        "d_2 = {'Date':[], 'Username':[], 'text':[]}\n",
        "\n",
        "for message in data_2['messages']:\n",
        "    if message['type'] == 'message':\n",
        "        d_2['Date'].append(message['date'])\n",
        "        d_2['Username'].append(message['from_id'])\n",
        "        if 'text' in message:\n",
        "            d_2['text'].append(message['text'])\n",
        "        else:\n",
        "            d_2['text'].append('')\n",
        "    else:\n",
        "        print(message) # то, что не относится к сообщениям"
      ]
    },
    {
      "cell_type": "code",
      "execution_count": null,
      "metadata": {
        "id": "KEwr7LrVfD9k"
      },
      "outputs": [],
      "source": [
        "# Словарь для датафрейма\n",
        "d_3 = {'Date':[], 'Username':[], 'text':[]}\n",
        "\n",
        "for message in data_3['messages']:\n",
        "    if message['type'] == 'message':\n",
        "        d_3['Date'].append(message['date'])\n",
        "        d_3['Username'].append(message['from_id'])\n",
        "        if 'text' in message:\n",
        "            d_3['text'].append(message['text'])\n",
        "        else:\n",
        "            d_3['text'].append('')\n",
        "    else:\n",
        "        print(message) # то, что не относится к сообщениям"
      ]
    },
    {
      "cell_type": "code",
      "execution_count": null,
      "metadata": {
        "id": "kNn3a9djfFKx"
      },
      "outputs": [],
      "source": [
        "# Словарь для датафрейма\n",
        "d_4 = {'Date':[], 'Username':[], 'text':[]}\n",
        "\n",
        "for message in data_4['messages']:\n",
        "    if message['type'] == 'message':\n",
        "        d_4['Date'].append(message['date'])\n",
        "        d_4['Username'].append(message['from_id'])\n",
        "        if 'text' in message:\n",
        "            d_4['text'].append(message['text'])\n",
        "        else:\n",
        "            d_4['text'].append('')\n",
        "    else:\n",
        "        print(message) # то, что не относится к сообщениям"
      ]
    },
    {
      "cell_type": "code",
      "execution_count": null,
      "metadata": {
        "id": "zrPcOxD9aU3T"
      },
      "outputs": [],
      "source": [
        "#Теперь создадим датафреймы\n",
        "df_1 = pd.DataFrame(d_1)\n",
        "df_2 = pd.DataFrame(d_2)\n",
        "df_3 = pd.DataFrame(d_3)\n",
        "df_4 = pd.DataFrame(d_4)"
      ]
    },
    {
      "cell_type": "code",
      "execution_count": null,
      "metadata": {
        "id": "bmF_fUSqqU5D"
      },
      "outputs": [],
      "source": [
        "# Удалим ссылки из df и преобразуем list в str\n",
        "for idx in df.index:\n",
        "    if type(df.loc[idx, 'text']) == list:\n",
        "        new_string = ''\n",
        "        for elem in df.loc[idx, 'text']:\n",
        "            if type(elem) == str:\n",
        "                new_string += elem\n",
        "        df.loc[idx, 'text'] = new_string"
      ]
    },
    {
      "cell_type": "code",
      "execution_count": null,
      "metadata": {
        "id": "zKj_ST90iOIW"
      },
      "outputs": [],
      "source": [
        "#Объединим их в 1 датафрейм, общий для всех чатов\n",
        "df = pd.concat([df_1, df_2, df_3, df_4], keys=['Релокация в Америку', 'Релокация в Канаду', 'Релокация в Дубай', 'Релокация в Армению'])\n",
        "\n",
        "df = df.reset_index(level=0)\n",
        "df.rename(columns={'level_0': 'Chat'}, inplace=True)\n",
        "\n",
        "df"
      ]
    },
    {
      "cell_type": "code",
      "execution_count": null,
      "metadata": {
        "id": "oqPi8kP-aX4z"
      },
      "outputs": [],
      "source": [
        "# Сообщения со ссылками\n",
        "for idx in df.index:\n",
        "    if type(df.loc[idx, 'text']) != str:\n",
        "        print(idx)\n",
        "        print(df.loc[idx, 'text'])"
      ]
    },
    {
      "cell_type": "code",
      "execution_count": null,
      "metadata": {
        "id": "0BKNCEdqgQXa"
      },
      "outputs": [],
      "source": [
        "# Удалим ссылки из df и преобразуем list в str\n",
        "for idx in df.index:\n",
        "    if type(df.loc[idx, 'text']) != str:\n",
        "        new_string = ''\n",
        "        for elem in df.loc[idx, 'text']:\n",
        "            if type(elem) == str:\n",
        "                new_string += elem\n",
        "        df.loc[idx, 'text'] = new_string"
      ]
    },
    {
      "cell_type": "code",
      "execution_count": null,
      "metadata": {
        "id": "sFnZBbuHacnz"
      },
      "outputs": [],
      "source": [
        "# Оставим только сообщения с текстом\n",
        "df = df[df['text'] != '']\n",
        "\n",
        "# Обработка имещихся колонок\n",
        "df['Date'] = pd.to_datetime(df_1['Date'], format='%Y-%m-%dT%H:%M:%S')\n",
        "\n",
        "# Добавим новые колонки\n",
        "df['Len_Text'] = df.text.str.len()\n",
        "def is_question(text):\n",
        "    if text.endswith('?'):\n",
        "        return \"Yes, it's a question\"\n",
        "    elif '?' in text:\n",
        "        return \"Kinda, but not for sure\"\n",
        "    else:\n",
        "        return \"No, it's not a question\"\n",
        "df['Is that a question?'] = df['text'].apply(is_question)\n",
        "\n",
        "df"
      ]
    },
    {
      "cell_type": "code",
      "execution_count": null,
      "metadata": {
        "id": "zeX-AREzagxj"
      },
      "outputs": [],
      "source": [
        "df[(df.Date > '2024-01-04 00:00:00') & (df.Date < '2025-04-24 00:00:00')]"
      ]
    },
    {
      "cell_type": "markdown",
      "metadata": {
        "id": "60XV1vMQciD_"
      },
      "source": [
        "# Перейдём к анализу получившегося датафрейма  "
      ]
    },
    {
      "cell_type": "code",
      "execution_count": null,
      "metadata": {
        "id": "R-J4_Xcdsoft"
      },
      "outputs": [],
      "source": [
        "#Выясним число сообщений из каждого чата\n",
        "rel_USA = 0\n",
        "rel_CAN = 0\n",
        "rel_DXB = 0\n",
        "rel_AM = 0\n",
        "\n",
        "for i in df['Chat']:\n",
        "  if i == 'Релокация в Америку':\n",
        "    rel_USA += 1\n",
        "  elif i == 'Релокация в Канаду':\n",
        "    rel_CAN += 1\n",
        "  elif i == 'Релокация в Дубай':\n",
        "    rel_DXB += 1\n",
        "  elif i == 'Релокация в Армению':\n",
        "    rel_AM += 1\n",
        "\n",
        "print('Число сообщений в каждом из чатов: ')\n",
        "print(f'Чат по релокации в Америку: {rel_USA}')\n",
        "print(f'Чат по релокации в Канаду: {rel_CAN}')\n",
        "print(f'Чат по релокации в Дубай: {rel_DXB}')\n",
        "print(f'Чат по релокации в Армению: {rel_AM}')"
      ]
    },
    {
      "cell_type": "code",
      "execution_count": null,
      "metadata": {
        "id": "LR715twms3yG"
      },
      "outputs": [],
      "source": [
        "#Найдём чат с наибольшим числом сообщений\n",
        "max_message_chat = 0\n",
        "name_max_message_chat = ''\n",
        "\n",
        "if rel_USA > rel_CAN and rel_USA > rel_DXB and rel_USA > rel_AM:\n",
        "  max_message_chat += rel_USA\n",
        "  name_max_message_chat += 'чат по релокации в Америку'\n",
        "elif rel_CAN > rel_USA and rel_CAN > rel_DXB and rel_CAN > rel_AM:\n",
        "  max_message_chat += rel_CAN\n",
        "  name_max_message_chat += 'чат по релокации в Канаду'\n",
        "elif rel_DXB > rel_CAN and rel_DXB > rel_USA and rel_DXB > rel_AM:\n",
        "  max_message_chat += rel_DXB\n",
        "  name_max_message_chat += 'чат по релокации в Дубай'\n",
        "elif rel_AM > rel_CAN and rel_AM > rel_DXB and rel_AM > rel_USA:\n",
        "  max_message_chat += rel_AM\n",
        "  name_max_message_chat += 'чат по релокации в Армению'\n",
        "\n",
        "print(f'Чат с наибольшим числом сообщений: {name_max_message_chat}')\n",
        "print(f'Число сообщений в нём: {max_message_chat}')"
      ]
    },
    {
      "cell_type": "code",
      "execution_count": null,
      "metadata": {
        "id": "qXNmGie-tyEm"
      },
      "outputs": [],
      "source": [
        "#Определим среднее количество сообщений за каждый месяц\n",
        "df['YearMonth'] = df['Date'].dt.to_period('M')\n",
        "monthly_message_counts = df.groupby('YearMonth').size()\n",
        "av_messages_per_month = monthly_message_counts.mean()\n",
        "\n",
        "print(f'Среднее количество сообщений за месяц: {int(av_messages_per_month)}')"
      ]
    },
    {
      "cell_type": "code",
      "execution_count": null,
      "metadata": {
        "id": "EQ8ZZAaTw3sq"
      },
      "outputs": [],
      "source": [
        "#Отдельно посчитаем среднее количество сообщений за месяц для каждого из чатов\n",
        "messages_per_month_chat = df.groupby(['Chat', 'YearMonth']).size()\n",
        "av_messages_per_month = messages_per_month_chat.mean()\n",
        "\n",
        "print(f'Среднее количество сообщений за месяц для каждого чата: {int(av_messages_per_month)}')"
      ]
    },
    {
      "cell_type": "code",
      "execution_count": null,
      "metadata": {
        "id": "7b1m-6OLyOHS"
      },
      "outputs": [],
      "source": [
        "pivot_table = pd.pivot_table(\n",
        "    df,\n",
        "    values='text',  # Используем столбец 'text' для подсчета количества сообщений\n",
        "    index=['Chat', 'YearMonth'],\n",
        "    aggfunc={'text': ['count', 'mean']}  # Подсчет количества и среднего\n",
        ")\n",
        "\n",
        "# Переименовываем столбцы для удобства\n",
        "pivot_table.columns = ['message_count', 'message_mean']\n",
        "pivot_table = pivot_table.reset_index()\n",
        "\n",
        "print(\"Сводная таблица:\")\n",
        "print(pivot_table)"
      ]
    },
    {
      "cell_type": "code",
      "execution_count": null,
      "metadata": {
        "id": "IWrhjYmj0T2d"
      },
      "outputs": [],
      "source": [
        "#Визуализируем общее количество сообщений в каждом чате\n",
        "message_counts = df['Chat'].value_counts()\n",
        "\n",
        "plt.figure(figsize=(8, 6))\n",
        "message_counts.plot(kind='bar', color='skyblue', width = 0.4)\n",
        "plt.title('Общее количество сообщений в каждом чате')\n",
        "plt.xlabel('Чат')\n",
        "plt.ylabel('Количество сообщений')\n",
        "plt.xticks(rotation=45, ha='right')\n",
        "plt.tight_layout()\n",
        "plt.show()"
      ]
    },
    {
      "cell_type": "code",
      "source": [
        "#Визуализируем помесячную динамику количества сообщений сообщений\n",
        "plt.figure(figsize=(8, 6))\n",
        "monthly_message_counts.plot(kind='line',  marker='o', linestyle='-', color='skyblue')\n",
        "plt.title('Количество сообщений помесячно')\n",
        "plt.xlabel('Период')\n",
        "plt.ylabel('Количество сообщений')\n",
        "plt.grid(True)\n",
        "plt.tight_layout()\n",
        "plt.show()\n"
      ],
      "metadata": {
        "id": "HsceSmgn3ulr"
      },
      "execution_count": null,
      "outputs": []
    },
    {
      "cell_type": "markdown",
      "source": [
        "#Заключение\n",
        "##В ходе этого анализа нам удалось сделать следующие выводы:\n",
        "*   Чат с наибольшим числом сообщений: чат по релокации в Америку\n",
        "*   Число сообщений в нём: 23447\n",
        "*   Среднее количество сообщений за месяц по всем чатам: 2251\n",
        "*   Среднее количество сообщений за месяц для каждого чата: 1540\n",
        "\n",
        "Также, мы визуализировали некоторые из этих данных и, кроме прочего, обнаружили, что пики по помесячному распределению сообщений приходятся на апрель и август 24-го, а также на январь 25-го (причины такого распределеняи могут стать объектами отдельных исследований).\n",
        "\n",
        "##Что касается самих данных\n",
        "Стоит повторно отметить, что в ходе работы над этим проектом мы взяли выгрузки сообщений из 4-х телеграм-каналов, посвящённых релокации. В этот список вошли чаты по релокации в США, Канаду, ОАЭ и Армению. После этого мы объединили эти данные в 1 датафрейм, добавили в него такие колонки, как \"Chat\", \"YearMonth\" и \"Is that a question?\" (они пригодились нам позже в исследования) и, разумеется, собрали описанную выше аналитику.\n"
      ],
      "metadata": {
        "id": "cpTEqNfR_k7d"
      }
    }
  ],
  "metadata": {
    "colab": {
      "provenance": [],
      "authorship_tag": "ABX9TyNDvFsY0WeHZU2TxcqkT/or"
    },
    "kernelspec": {
      "display_name": "Python 3",
      "name": "python3"
    },
    "language_info": {
      "name": "python"
    }
  },
  "nbformat": 4,
  "nbformat_minor": 0
}
